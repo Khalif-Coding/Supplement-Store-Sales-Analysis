{
 "cells": [
  {
   "cell_type": "code",
   "execution_count": 2,
   "metadata": {},
   "outputs": [],
   "source": [
    "import pandas as pd\n",
    "import numpy as np\n",
    "import matplotlib.pyplot as plt\n",
    "import seaborn as sns\n",
    "from scipy import stats\n",
    "from scipy.stats import ttest_ind\n",
    "from scipy.stats import pearsonr"
   ]
  },
  {
   "cell_type": "markdown",
   "metadata": {},
   "source": [
    "# 1. Introduction"
   ]
  },
  {
   "cell_type": "markdown",
   "metadata": {},
   "source": [
    "### Milestone 1\n",
    "\n",
    "Nama  : Khalif Prabowo Santoso\n",
    "\n",
    "Batch : Pondok Indah - 029\n",
    "\n",
    "Program ini dibuat untuk mengukur kemampuan data analyst, dimulai dari mencari dataset, mendifinisikan masalahnya, dilanjutkan pengolahan data, serta memberikan kesimpulan atau masukkan, dan yang paling terakhir adalah memvisualisasikannya kedalam dashboard tableau. Dengan ini diharapkan agar mampu menghasilkan sebuah outcome dengan ilmu data analyst.\n",
    "\n",
    "Link Tableau : https://public.tableau.com/app/profile/ivan.12/viz/Milestone1_17502565662790/SuplementStoreDashboard"
   ]
  },
  {
   "cell_type": "markdown",
   "metadata": {},
   "source": [
    "# 2. Problem Statement and Dataset Description"
   ]
  },
  {
   "cell_type": "markdown",
   "metadata": {},
   "source": [
    "### Topik Permasalahan\n",
    "\n",
    "***SMART***\n",
    "\n",
    "**Specific**: Improving profitability by optimizing discount strategies and focusing on best-selling supplement categories across countries and platforms.\n",
    "\n",
    "**Measurable**: Increase revenue per unit sold by 10% through more efficient discount strategies.\n",
    "\n",
    "**Achievable**: By limiting excessive discounts, promoting high-demand and high-margin supplements, training staff in pricing strategy, and enhancing customer experience across platforms.\n",
    "\n",
    "**Relevant**: Optimizing discounts strategies and product focus can directly improve profitability and reduce product returns, supporting sustainable growth.\n",
    "\n",
    "**Time-Bound**: Achieve within the next quarter."
   ]
  },
  {
   "cell_type": "markdown",
   "metadata": {},
   "source": [
    "### Problem Statement\n",
    "\n",
    "Toko Suplemen A menghadapi tantangan dalam meningkatkan profitabilitas akibat strategi diskon yang kurang optimal dan tingginya tingkat pengembalian produk. Untuk mengatasi hal ini, mereka ingin mengoptimalkan skema diskon, fokus pada suplemen dengan permintaan dan margin tinggi, serta meningkatkan pengalaman pelanggan di berbagai platform. Targetnya adalah meningkatkan revenue per unit sebesar 10% dan menurunkan tingkat return sebesar 15% dalam satu kuartal, guna mendorong pertumbuhan bisnis yang lebih berkelanjutan."
   ]
  },
  {
   "cell_type": "markdown",
   "metadata": {},
   "source": [
    "### Latar Belakang\n",
    "\n",
    "Manajemen Toko Suplemen A ingin mengevaluasi efektivitas strategi penjualan mereka setelah melihat indikasi penurunan revenue yang disebabkan oleh diskon berlebihan (over-discounting) dan tingginya tingkat pengembalian produk. Mereka membutuhkan bantuan seorang analis untuk mengidentifikasi produk, kategori, atau strategi diskon yang tidak efektif, serta merumuskan langkah-langkah yang dapat meningkatkan profit dan menekan kerugian akibat pengembalian barang."
   ]
  },
  {
   "cell_type": "markdown",
   "metadata": {},
   "source": [
    "### Sumber Dataset\n",
    "\n",
    "Sumber Dataset : https://www.kaggle.com/datasets/zahidmughal2343/supplement-sales-data\n",
    "\n",
    "Dataset langsung di download dan dimasukkan kedalam folder milestone1 yang bernama 'suplement_store_sales.csv'\n",
    "\n",
    "Dataset ini adalah data tentang penjualan suatu toko suplement."
   ]
  },
  {
   "cell_type": "markdown",
   "metadata": {},
   "source": [
    "### Penjabaran Masalah\n",
    "\n",
    "Main Problem: meningkatkan efektivitas startegi penjualan guna memperbesar revenue toko.\n",
    "\n",
    "Penjabaran Masalah:\n",
    "1. Apa Saja Produk Yang Paling Sering Diberi Diskon Tinggi Namun Tidak Revenue Yang Signifikan? \n",
    "2. Category Terlaris Di Setiap Location? \n",
    "3. Kapan periode paling sering terjadi over-discounting dan tingginya return? \n",
    "4. Apakah terdapat perbedaan signifikan rata-rata profit antar platform penjualan yang berbeda? \n",
    "5. Produk atau kategori apa yang memiliki tingkat pengembalian tertinggi? \n",
    "6. Di wilayah atau platform mana pengembalian produk paling sering terjadi? \n",
    "\n",
    "Untuk memudahkan analisis dan menyelesaikan masalah, saya menggunakan kerangka kerja dengan startegi penjabaran 5W + 1H untuk dapat menemukan sumber/potensi masalah yang berpengaruh dalah peningkatan strategi.\n"
   ]
  },
  {
   "cell_type": "markdown",
   "metadata": {},
   "source": [
    "# 3. Data Loading"
   ]
  },
  {
   "cell_type": "code",
   "execution_count": 3,
   "metadata": {},
   "outputs": [
    {
     "data": {
      "text/html": [
       "<div>\n",
       "<style scoped>\n",
       "    .dataframe tbody tr th:only-of-type {\n",
       "        vertical-align: middle;\n",
       "    }\n",
       "\n",
       "    .dataframe tbody tr th {\n",
       "        vertical-align: top;\n",
       "    }\n",
       "\n",
       "    .dataframe thead th {\n",
       "        text-align: right;\n",
       "    }\n",
       "</style>\n",
       "<table border=\"1\" class=\"dataframe\">\n",
       "  <thead>\n",
       "    <tr style=\"text-align: right;\">\n",
       "      <th></th>\n",
       "      <th>Date</th>\n",
       "      <th>Product Name</th>\n",
       "      <th>Category</th>\n",
       "      <th>Units Sold</th>\n",
       "      <th>Price</th>\n",
       "      <th>Revenue</th>\n",
       "      <th>Discount</th>\n",
       "      <th>Units Returned</th>\n",
       "      <th>Location</th>\n",
       "      <th>Platform</th>\n",
       "    </tr>\n",
       "  </thead>\n",
       "  <tbody>\n",
       "    <tr>\n",
       "      <th>0</th>\n",
       "      <td>2020-01-06</td>\n",
       "      <td>Whey Protein</td>\n",
       "      <td>Protein</td>\n",
       "      <td>143</td>\n",
       "      <td>31.98</td>\n",
       "      <td>4573.14</td>\n",
       "      <td>0.03</td>\n",
       "      <td>2</td>\n",
       "      <td>Canada</td>\n",
       "      <td>Walmart</td>\n",
       "    </tr>\n",
       "    <tr>\n",
       "      <th>1</th>\n",
       "      <td>2020-01-06</td>\n",
       "      <td>Vitamin C</td>\n",
       "      <td>Vitamin</td>\n",
       "      <td>139</td>\n",
       "      <td>42.51</td>\n",
       "      <td>5908.89</td>\n",
       "      <td>0.04</td>\n",
       "      <td>0</td>\n",
       "      <td>UK</td>\n",
       "      <td>Amazon</td>\n",
       "    </tr>\n",
       "    <tr>\n",
       "      <th>2</th>\n",
       "      <td>2020-01-06</td>\n",
       "      <td>Fish Oil</td>\n",
       "      <td>Omega</td>\n",
       "      <td>161</td>\n",
       "      <td>12.91</td>\n",
       "      <td>2078.51</td>\n",
       "      <td>0.25</td>\n",
       "      <td>0</td>\n",
       "      <td>Canada</td>\n",
       "      <td>Amazon</td>\n",
       "    </tr>\n",
       "    <tr>\n",
       "      <th>3</th>\n",
       "      <td>2020-01-06</td>\n",
       "      <td>Multivitamin</td>\n",
       "      <td>Vitamin</td>\n",
       "      <td>140</td>\n",
       "      <td>16.07</td>\n",
       "      <td>2249.80</td>\n",
       "      <td>0.08</td>\n",
       "      <td>0</td>\n",
       "      <td>Canada</td>\n",
       "      <td>Walmart</td>\n",
       "    </tr>\n",
       "    <tr>\n",
       "      <th>4</th>\n",
       "      <td>2020-01-06</td>\n",
       "      <td>Pre-Workout</td>\n",
       "      <td>Performance</td>\n",
       "      <td>157</td>\n",
       "      <td>35.47</td>\n",
       "      <td>5568.79</td>\n",
       "      <td>0.25</td>\n",
       "      <td>3</td>\n",
       "      <td>Canada</td>\n",
       "      <td>iHerb</td>\n",
       "    </tr>\n",
       "    <tr>\n",
       "      <th>...</th>\n",
       "      <td>...</td>\n",
       "      <td>...</td>\n",
       "      <td>...</td>\n",
       "      <td>...</td>\n",
       "      <td>...</td>\n",
       "      <td>...</td>\n",
       "      <td>...</td>\n",
       "      <td>...</td>\n",
       "      <td>...</td>\n",
       "      <td>...</td>\n",
       "    </tr>\n",
       "    <tr>\n",
       "      <th>4379</th>\n",
       "      <td>2025-03-31</td>\n",
       "      <td>Melatonin</td>\n",
       "      <td>Sleep Aid</td>\n",
       "      <td>160</td>\n",
       "      <td>47.79</td>\n",
       "      <td>7646.40</td>\n",
       "      <td>0.21</td>\n",
       "      <td>1</td>\n",
       "      <td>USA</td>\n",
       "      <td>iHerb</td>\n",
       "    </tr>\n",
       "    <tr>\n",
       "      <th>4380</th>\n",
       "      <td>2025-03-31</td>\n",
       "      <td>Biotin</td>\n",
       "      <td>Vitamin</td>\n",
       "      <td>154</td>\n",
       "      <td>38.12</td>\n",
       "      <td>5870.48</td>\n",
       "      <td>0.22</td>\n",
       "      <td>1</td>\n",
       "      <td>UK</td>\n",
       "      <td>Walmart</td>\n",
       "    </tr>\n",
       "    <tr>\n",
       "      <th>4381</th>\n",
       "      <td>2025-03-31</td>\n",
       "      <td>Green Tea Extract</td>\n",
       "      <td>Fat Burner</td>\n",
       "      <td>139</td>\n",
       "      <td>20.40</td>\n",
       "      <td>2835.60</td>\n",
       "      <td>0.12</td>\n",
       "      <td>3</td>\n",
       "      <td>USA</td>\n",
       "      <td>iHerb</td>\n",
       "    </tr>\n",
       "    <tr>\n",
       "      <th>4382</th>\n",
       "      <td>2025-03-31</td>\n",
       "      <td>Iron Supplement</td>\n",
       "      <td>Mineral</td>\n",
       "      <td>154</td>\n",
       "      <td>18.31</td>\n",
       "      <td>2819.74</td>\n",
       "      <td>0.23</td>\n",
       "      <td>2</td>\n",
       "      <td>Canada</td>\n",
       "      <td>Amazon</td>\n",
       "    </tr>\n",
       "    <tr>\n",
       "      <th>4383</th>\n",
       "      <td>2025-03-31</td>\n",
       "      <td>Electrolyte Powder</td>\n",
       "      <td>Hydration</td>\n",
       "      <td>178</td>\n",
       "      <td>39.12</td>\n",
       "      <td>6963.36</td>\n",
       "      <td>0.23</td>\n",
       "      <td>0</td>\n",
       "      <td>UK</td>\n",
       "      <td>iHerb</td>\n",
       "    </tr>\n",
       "  </tbody>\n",
       "</table>\n",
       "<p>4384 rows × 10 columns</p>\n",
       "</div>"
      ],
      "text/plain": [
       "            Date        Product Name     Category  Units Sold  Price  Revenue  \\\n",
       "0     2020-01-06        Whey Protein      Protein         143  31.98  4573.14   \n",
       "1     2020-01-06           Vitamin C      Vitamin         139  42.51  5908.89   \n",
       "2     2020-01-06            Fish Oil        Omega         161  12.91  2078.51   \n",
       "3     2020-01-06        Multivitamin      Vitamin         140  16.07  2249.80   \n",
       "4     2020-01-06         Pre-Workout  Performance         157  35.47  5568.79   \n",
       "...          ...                 ...          ...         ...    ...      ...   \n",
       "4379  2025-03-31           Melatonin    Sleep Aid         160  47.79  7646.40   \n",
       "4380  2025-03-31              Biotin      Vitamin         154  38.12  5870.48   \n",
       "4381  2025-03-31   Green Tea Extract   Fat Burner         139  20.40  2835.60   \n",
       "4382  2025-03-31     Iron Supplement      Mineral         154  18.31  2819.74   \n",
       "4383  2025-03-31  Electrolyte Powder    Hydration         178  39.12  6963.36   \n",
       "\n",
       "      Discount  Units Returned Location Platform  \n",
       "0         0.03               2   Canada  Walmart  \n",
       "1         0.04               0       UK   Amazon  \n",
       "2         0.25               0   Canada   Amazon  \n",
       "3         0.08               0   Canada  Walmart  \n",
       "4         0.25               3   Canada    iHerb  \n",
       "...        ...             ...      ...      ...  \n",
       "4379      0.21               1      USA    iHerb  \n",
       "4380      0.22               1       UK  Walmart  \n",
       "4381      0.12               3      USA    iHerb  \n",
       "4382      0.23               2   Canada   Amazon  \n",
       "4383      0.23               0       UK    iHerb  \n",
       "\n",
       "[4384 rows x 10 columns]"
      ]
     },
     "execution_count": 3,
     "metadata": {},
     "output_type": "execute_result"
    }
   ],
   "source": [
    "df = pd.read_csv('P0M1_Khalif_Santoso_Dataset.csv')\n",
    "df"
   ]
  },
  {
   "cell_type": "code",
   "execution_count": 7,
   "metadata": {},
   "outputs": [
    {
     "data": {
      "text/html": [
       "<div>\n",
       "<style scoped>\n",
       "    .dataframe tbody tr th:only-of-type {\n",
       "        vertical-align: middle;\n",
       "    }\n",
       "\n",
       "    .dataframe tbody tr th {\n",
       "        vertical-align: top;\n",
       "    }\n",
       "\n",
       "    .dataframe thead th {\n",
       "        text-align: right;\n",
       "    }\n",
       "</style>\n",
       "<table border=\"1\" class=\"dataframe\">\n",
       "  <thead>\n",
       "    <tr style=\"text-align: right;\">\n",
       "      <th></th>\n",
       "      <th>Date</th>\n",
       "      <th>Product Name</th>\n",
       "      <th>Category</th>\n",
       "      <th>Units Sold</th>\n",
       "      <th>Price</th>\n",
       "      <th>Revenue</th>\n",
       "      <th>Discount</th>\n",
       "      <th>Units Returned</th>\n",
       "      <th>Location</th>\n",
       "      <th>Platform</th>\n",
       "    </tr>\n",
       "  </thead>\n",
       "  <tbody>\n",
       "    <tr>\n",
       "      <th>1848</th>\n",
       "      <td>2022-03-21</td>\n",
       "      <td>Collagen Peptides</td>\n",
       "      <td>Protein</td>\n",
       "      <td>162</td>\n",
       "      <td>32.53</td>\n",
       "      <td>5269.86</td>\n",
       "      <td>0.11</td>\n",
       "      <td>1</td>\n",
       "      <td>Canada</td>\n",
       "      <td>Amazon</td>\n",
       "    </tr>\n",
       "    <tr>\n",
       "      <th>1400</th>\n",
       "      <td>2021-09-06</td>\n",
       "      <td>Collagen Peptides</td>\n",
       "      <td>Protein</td>\n",
       "      <td>147</td>\n",
       "      <td>58.08</td>\n",
       "      <td>8537.76</td>\n",
       "      <td>0.13</td>\n",
       "      <td>2</td>\n",
       "      <td>Canada</td>\n",
       "      <td>Amazon</td>\n",
       "    </tr>\n",
       "    <tr>\n",
       "      <th>3207</th>\n",
       "      <td>2023-11-06</td>\n",
       "      <td>Zinc</td>\n",
       "      <td>Mineral</td>\n",
       "      <td>163</td>\n",
       "      <td>42.13</td>\n",
       "      <td>6867.19</td>\n",
       "      <td>0.22</td>\n",
       "      <td>2</td>\n",
       "      <td>Canada</td>\n",
       "      <td>iHerb</td>\n",
       "    </tr>\n",
       "    <tr>\n",
       "      <th>4038</th>\n",
       "      <td>2024-11-04</td>\n",
       "      <td>Creatine</td>\n",
       "      <td>Performance</td>\n",
       "      <td>152</td>\n",
       "      <td>16.61</td>\n",
       "      <td>2524.72</td>\n",
       "      <td>0.02</td>\n",
       "      <td>0</td>\n",
       "      <td>Canada</td>\n",
       "      <td>Walmart</td>\n",
       "    </tr>\n",
       "    <tr>\n",
       "      <th>1382</th>\n",
       "      <td>2021-08-30</td>\n",
       "      <td>Creatine</td>\n",
       "      <td>Performance</td>\n",
       "      <td>135</td>\n",
       "      <td>58.80</td>\n",
       "      <td>7938.00</td>\n",
       "      <td>0.06</td>\n",
       "      <td>1</td>\n",
       "      <td>Canada</td>\n",
       "      <td>iHerb</td>\n",
       "    </tr>\n",
       "  </tbody>\n",
       "</table>\n",
       "</div>"
      ],
      "text/plain": [
       "            Date       Product Name     Category  Units Sold  Price  Revenue  \\\n",
       "1848  2022-03-21  Collagen Peptides      Protein         162  32.53  5269.86   \n",
       "1400  2021-09-06  Collagen Peptides      Protein         147  58.08  8537.76   \n",
       "3207  2023-11-06               Zinc      Mineral         163  42.13  6867.19   \n",
       "4038  2024-11-04           Creatine  Performance         152  16.61  2524.72   \n",
       "1382  2021-08-30           Creatine  Performance         135  58.80  7938.00   \n",
       "\n",
       "      Discount  Units Returned Location Platform  \n",
       "1848      0.11               1   Canada   Amazon  \n",
       "1400      0.13               2   Canada   Amazon  \n",
       "3207      0.22               2   Canada    iHerb  \n",
       "4038      0.02               0   Canada  Walmart  \n",
       "1382      0.06               1   Canada    iHerb  "
      ]
     },
     "execution_count": 7,
     "metadata": {},
     "output_type": "execute_result"
    }
   ],
   "source": [
    "df.sample(5)"
   ]
  },
  {
   "cell_type": "code",
   "execution_count": 7,
   "metadata": {},
   "outputs": [
    {
     "data": {
      "text/plain": [
       "array(['Protein', 'Vitamin', 'Omega', 'Performance', 'Amino Acid',\n",
       "       'Mineral', 'Herbal', 'Sleep Aid', 'Fat Burner', 'Hydration'],\n",
       "      dtype=object)"
      ]
     },
     "execution_count": 7,
     "metadata": {},
     "output_type": "execute_result"
    }
   ],
   "source": [
    "df['Category'].unique()"
   ]
  },
  {
   "cell_type": "markdown",
   "metadata": {},
   "source": [
    "> Hasil Load Dataset"
   ]
  },
  {
   "cell_type": "code",
   "execution_count": 3,
   "metadata": {},
   "outputs": [
    {
     "name": "stdout",
     "output_type": "stream",
     "text": [
      "<class 'pandas.core.frame.DataFrame'>\n",
      "RangeIndex: 4384 entries, 0 to 4383\n",
      "Data columns (total 10 columns):\n",
      " #   Column          Non-Null Count  Dtype  \n",
      "---  ------          --------------  -----  \n",
      " 0   Date            4384 non-null   object \n",
      " 1   Product Name    4384 non-null   object \n",
      " 2   Category        4384 non-null   object \n",
      " 3   Units Sold      4384 non-null   int64  \n",
      " 4   Price           4384 non-null   float64\n",
      " 5   Revenue         4384 non-null   float64\n",
      " 6   Discount        4384 non-null   float64\n",
      " 7   Units Returned  4384 non-null   int64  \n",
      " 8   Location        4384 non-null   object \n",
      " 9   Platform        4384 non-null   object \n",
      "dtypes: float64(3), int64(2), object(5)\n",
      "memory usage: 342.6+ KB\n"
     ]
    }
   ],
   "source": [
    "df.info()"
   ]
  },
  {
   "cell_type": "markdown",
   "metadata": {},
   "source": [
    "> Pada tabel ini menunjukkan informasi dari dataset terkait. Bisa melihat jumlah datanya, typedata-nya, dan jumlah masing-masing type data-nya."
   ]
  },
  {
   "cell_type": "code",
   "execution_count": 4,
   "metadata": {},
   "outputs": [
    {
     "data": {
      "text/plain": [
       "Index(['Date', 'Product Name', 'Category', 'Units Sold', 'Price', 'Revenue',\n",
       "       'Discount', 'Units Returned', 'Location', 'Platform'],\n",
       "      dtype='object')"
      ]
     },
     "execution_count": 4,
     "metadata": {},
     "output_type": "execute_result"
    }
   ],
   "source": [
    "df.columns"
   ]
  },
  {
   "cell_type": "markdown",
   "metadata": {},
   "source": [
    "> Load nama-nama columns yang ada didalam dataset."
   ]
  },
  {
   "cell_type": "code",
   "execution_count": 5,
   "metadata": {},
   "outputs": [
    {
     "data": {
      "text/plain": [
       "Date               274\n",
       "Product Name        16\n",
       "Category            10\n",
       "Units Sold          81\n",
       "Price             2919\n",
       "Revenue           4326\n",
       "Discount            26\n",
       "Units Returned       9\n",
       "Location             3\n",
       "Platform             3\n",
       "dtype: int64"
      ]
     },
     "execution_count": 5,
     "metadata": {},
     "output_type": "execute_result"
    }
   ],
   "source": [
    "df.nunique()"
   ]
  },
  {
   "cell_type": "markdown",
   "metadata": {},
   "source": [
    "> Menunjukkan jumlah nilai Unique dari setiap columns, contoh: Platform Dan Location Hanya ada 3 Unique dari Total 4383 row (Iherb, Amazon, Walmart)."
   ]
  },
  {
   "cell_type": "markdown",
   "metadata": {},
   "source": [
    "# 4. Data Cleaning"
   ]
  },
  {
   "cell_type": "code",
   "execution_count": 6,
   "metadata": {},
   "outputs": [
    {
     "data": {
      "text/plain": [
       "Date              0\n",
       "Product Name      0\n",
       "Category          0\n",
       "Units Sold        0\n",
       "Price             0\n",
       "Revenue           0\n",
       "Discount          0\n",
       "Units Returned    0\n",
       "Location          0\n",
       "Platform          0\n",
       "dtype: int64"
      ]
     },
     "execution_count": 6,
     "metadata": {},
     "output_type": "execute_result"
    }
   ],
   "source": [
    "df.isna().sum()"
   ]
  },
  {
   "cell_type": "markdown",
   "metadata": {},
   "source": [
    "> Berdasar pada code diatas untuk mencari 'NULL' values, terlihat bahwa dataset ini sudah clean (tidak ada 'NULL' values)."
   ]
  },
  {
   "cell_type": "code",
   "execution_count": 7,
   "metadata": {},
   "outputs": [
    {
     "data": {
      "text/plain": [
       "np.int64(0)"
      ]
     },
     "execution_count": 7,
     "metadata": {},
     "output_type": "execute_result"
    }
   ],
   "source": [
    "df.duplicated().sum()"
   ]
  },
  {
   "cell_type": "markdown",
   "metadata": {},
   "source": [
    "> Berdasar pada code diatas untuk mencari duplicate row, terlihat bahwa dataset ini sudah clean (tidak ada duplicate row)."
   ]
  },
  {
   "cell_type": "code",
   "execution_count": 8,
   "metadata": {},
   "outputs": [
    {
     "data": {
      "text/plain": [
       "Date               object\n",
       "Product Name       object\n",
       "Category           object\n",
       "Units Sold          int64\n",
       "Price             float64\n",
       "Revenue           float64\n",
       "Discount          float64\n",
       "Units Returned      int64\n",
       "Location           object\n",
       "Platform           object\n",
       "dtype: object"
      ]
     },
     "execution_count": 8,
     "metadata": {},
     "output_type": "execute_result"
    }
   ],
   "source": [
    "df.dtypes"
   ]
  },
  {
   "cell_type": "code",
   "execution_count": 9,
   "metadata": {},
   "outputs": [],
   "source": [
    "df['Date'] = pd.to_datetime(df['Date'])"
   ]
  },
  {
   "cell_type": "markdown",
   "metadata": {},
   "source": [
    "> Type data pada dataset sudah sesuai, hanya ada pada 1 kolom yaitu date, yang datanya masih berupa object (bukan datetime), maka akan dilakukan pengubahan type data untuk memudahkan apabila data yang membutuhkan mengambil secara datetime."
   ]
  },
  {
   "cell_type": "code",
   "execution_count": 10,
   "metadata": {},
   "outputs": [
    {
     "data": {
      "text/plain": [
       "Date              datetime64[ns]\n",
       "Product Name              object\n",
       "Category                  object\n",
       "Units Sold                 int64\n",
       "Price                    float64\n",
       "Revenue                  float64\n",
       "Discount                 float64\n",
       "Units Returned             int64\n",
       "Location                  object\n",
       "Platform                  object\n",
       "dtype: object"
      ]
     },
     "execution_count": 10,
     "metadata": {},
     "output_type": "execute_result"
    }
   ],
   "source": [
    "df.dtypes"
   ]
  },
  {
   "cell_type": "markdown",
   "metadata": {},
   "source": [
    "> Hasil Akhir data type dan kurang lebihnya sudah cukup sesuai."
   ]
  },
  {
   "cell_type": "markdown",
   "metadata": {},
   "source": [
    "# 5. Exploration and Analysis"
   ]
  },
  {
   "cell_type": "markdown",
   "metadata": {},
   "source": [
    "### I. Apa Saja Produk Yang Paling Sering Diberi Diskon Tinggi Namun Revenue Tidak Signifikan? Deskriptif"
   ]
  },
  {
   "cell_type": "markdown",
   "metadata": {},
   "source": [
    "#### Step Pengerjaan\n",
    "1. Memberikan data per-product terkait rata-rata discountnya (hal ini digunakan karena discount per-produknya bisa bervariasi).\n",
    "2. Memberikan data per-product terkait jumlah revenue per-product yang dihasilkan.\n",
    "3. Memasukkan kedalam variabel untuk memudahkan pencarian.\n",
    "4. Definisikan berapa nilai diskon yang dianggap tinggi. Dengan menggunakan pendekatan statistik dan prinsip data-driven, penggunaan tinggi dalam sebuah data dapat dicari dengan menggunakan 25% data teratas atau Q3 (50% data tengah atau median Q2, 25% data terbawah/nilai terbawah Q1).\n",
    "5. Definisikan revenue yang tidak signifikan, kita akan mengambil median / Q2 dari revenue untuk mencari revenue tidak signifikan, alasannya adalah agar data yang dihasilkan dapat memberikan hasil yang lebih umum (Tidak terburuk/Q1).\n",
    "6. Lakukan filterisasi harga sehingga data yang ditampilkan adalah harga yang dapat menjawab pertanyaan (diskon diatas q3/batas dan revenue \n",
    "dibawah q2/median). \n",
    "7. Memperlihatkan data yang tergolong diberi diskon tetapi revenue tidak signifikan.\n",
    "8. Visualisasi dari keseluruhan data dengan menghighlight produk yang sering diberi diskon tetapi revenue tidak signifikan."
   ]
  },
  {
   "cell_type": "code",
   "execution_count": 6,
   "metadata": {},
   "outputs": [
    {
     "data": {
      "text/html": [
       "<div>\n",
       "<style scoped>\n",
       "    .dataframe tbody tr th:only-of-type {\n",
       "        vertical-align: middle;\n",
       "    }\n",
       "\n",
       "    .dataframe tbody tr th {\n",
       "        vertical-align: top;\n",
       "    }\n",
       "\n",
       "    .dataframe thead th {\n",
       "        text-align: right;\n",
       "    }\n",
       "</style>\n",
       "<table border=\"1\" class=\"dataframe\">\n",
       "  <thead>\n",
       "    <tr style=\"text-align: right;\">\n",
       "      <th></th>\n",
       "      <th>Product Name</th>\n",
       "      <th>Discount</th>\n",
       "      <th>Revenue</th>\n",
       "    </tr>\n",
       "  </thead>\n",
       "  <tbody>\n",
       "    <tr>\n",
       "      <th>0</th>\n",
       "      <td>Ashwagandha</td>\n",
       "      <td>0.126241</td>\n",
       "      <td>1405700.79</td>\n",
       "    </tr>\n",
       "    <tr>\n",
       "      <th>1</th>\n",
       "      <td>BCAA</td>\n",
       "      <td>0.121642</td>\n",
       "      <td>1464819.63</td>\n",
       "    </tr>\n",
       "    <tr>\n",
       "      <th>2</th>\n",
       "      <td>Biotin</td>\n",
       "      <td>0.121131</td>\n",
       "      <td>1486798.62</td>\n",
       "    </tr>\n",
       "    <tr>\n",
       "      <th>3</th>\n",
       "      <td>Collagen Peptides</td>\n",
       "      <td>0.121277</td>\n",
       "      <td>1433297.24</td>\n",
       "    </tr>\n",
       "    <tr>\n",
       "      <th>4</th>\n",
       "      <td>Creatine</td>\n",
       "      <td>0.119964</td>\n",
       "      <td>1432518.40</td>\n",
       "    </tr>\n",
       "    <tr>\n",
       "      <th>5</th>\n",
       "      <td>Electrolyte Powder</td>\n",
       "      <td>0.119088</td>\n",
       "      <td>1411951.38</td>\n",
       "    </tr>\n",
       "    <tr>\n",
       "      <th>6</th>\n",
       "      <td>Fish Oil</td>\n",
       "      <td>0.128905</td>\n",
       "      <td>1451065.87</td>\n",
       "    </tr>\n",
       "    <tr>\n",
       "      <th>7</th>\n",
       "      <td>Green Tea Extract</td>\n",
       "      <td>0.125657</td>\n",
       "      <td>1440900.05</td>\n",
       "    </tr>\n",
       "    <tr>\n",
       "      <th>8</th>\n",
       "      <td>Iron Supplement</td>\n",
       "      <td>0.122117</td>\n",
       "      <td>1431582.41</td>\n",
       "    </tr>\n",
       "    <tr>\n",
       "      <th>9</th>\n",
       "      <td>Magnesium</td>\n",
       "      <td>0.129343</td>\n",
       "      <td>1361978.63</td>\n",
       "    </tr>\n",
       "    <tr>\n",
       "      <th>10</th>\n",
       "      <td>Melatonin</td>\n",
       "      <td>0.124489</td>\n",
       "      <td>1397315.79</td>\n",
       "    </tr>\n",
       "    <tr>\n",
       "      <th>11</th>\n",
       "      <td>Multivitamin</td>\n",
       "      <td>0.125766</td>\n",
       "      <td>1391427.99</td>\n",
       "    </tr>\n",
       "    <tr>\n",
       "      <th>12</th>\n",
       "      <td>Pre-Workout</td>\n",
       "      <td>0.125511</td>\n",
       "      <td>1477183.78</td>\n",
       "    </tr>\n",
       "    <tr>\n",
       "      <th>13</th>\n",
       "      <td>Vitamin C</td>\n",
       "      <td>0.129270</td>\n",
       "      <td>1421998.07</td>\n",
       "    </tr>\n",
       "    <tr>\n",
       "      <th>14</th>\n",
       "      <td>Whey Protein</td>\n",
       "      <td>0.121752</td>\n",
       "      <td>1422194.85</td>\n",
       "    </tr>\n",
       "    <tr>\n",
       "      <th>15</th>\n",
       "      <td>Zinc</td>\n",
       "      <td>0.128212</td>\n",
       "      <td>1482546.95</td>\n",
       "    </tr>\n",
       "  </tbody>\n",
       "</table>\n",
       "</div>"
      ],
      "text/plain": [
       "          Product Name  Discount     Revenue\n",
       "0          Ashwagandha  0.126241  1405700.79\n",
       "1                 BCAA  0.121642  1464819.63\n",
       "2               Biotin  0.121131  1486798.62\n",
       "3    Collagen Peptides  0.121277  1433297.24\n",
       "4             Creatine  0.119964  1432518.40\n",
       "5   Electrolyte Powder  0.119088  1411951.38\n",
       "6             Fish Oil  0.128905  1451065.87\n",
       "7    Green Tea Extract  0.125657  1440900.05\n",
       "8      Iron Supplement  0.122117  1431582.41\n",
       "9            Magnesium  0.129343  1361978.63\n",
       "10           Melatonin  0.124489  1397315.79\n",
       "11        Multivitamin  0.125766  1391427.99\n",
       "12         Pre-Workout  0.125511  1477183.78\n",
       "13           Vitamin C  0.129270  1421998.07\n",
       "14        Whey Protein  0.121752  1422194.85\n",
       "15                Zinc  0.128212  1482546.95"
      ]
     },
     "execution_count": 6,
     "metadata": {},
     "output_type": "execute_result"
    }
   ],
   "source": [
    "produk = df.groupby('Product Name').agg({'Discount': 'mean','Revenue': 'sum'}).reset_index()\n",
    "produk"
   ]
  },
  {
   "cell_type": "code",
   "execution_count": 7,
   "metadata": {},
   "outputs": [],
   "source": [
    "diskon = produk['Discount'].quantile(0.75)\n",
    "med_revenue = produk['Revenue'].median()"
   ]
  },
  {
   "cell_type": "code",
   "execution_count": 10,
   "metadata": {},
   "outputs": [
    {
     "name": "stdout",
     "output_type": "stream",
     "text": [
      "Nilai Minimal Harga Tinggi: 0.1267\n",
      "Batas Minimal Revenue Tidak Signifikan: 1,432,050\n"
     ]
    }
   ],
   "source": [
    "print(f\"Nilai Minimal Harga Tinggi: {diskon:.4f}\\nBatas Minimal Revenue Tidak Signifikan: {med_revenue:,.0f}\")"
   ]
  },
  {
   "cell_type": "code",
   "execution_count": 8,
   "metadata": {},
   "outputs": [
    {
     "data": {
      "text/html": [
       "<div>\n",
       "<style scoped>\n",
       "    .dataframe tbody tr th:only-of-type {\n",
       "        vertical-align: middle;\n",
       "    }\n",
       "\n",
       "    .dataframe tbody tr th {\n",
       "        vertical-align: top;\n",
       "    }\n",
       "\n",
       "    .dataframe thead th {\n",
       "        text-align: right;\n",
       "    }\n",
       "</style>\n",
       "<table border=\"1\" class=\"dataframe\">\n",
       "  <thead>\n",
       "    <tr style=\"text-align: right;\">\n",
       "      <th></th>\n",
       "      <th>Product Name</th>\n",
       "      <th>Discount</th>\n",
       "      <th>Revenue</th>\n",
       "    </tr>\n",
       "  </thead>\n",
       "  <tbody>\n",
       "    <tr>\n",
       "      <th>9</th>\n",
       "      <td>Magnesium</td>\n",
       "      <td>0.129343</td>\n",
       "      <td>1361978.63</td>\n",
       "    </tr>\n",
       "    <tr>\n",
       "      <th>13</th>\n",
       "      <td>Vitamin C</td>\n",
       "      <td>0.129270</td>\n",
       "      <td>1421998.07</td>\n",
       "    </tr>\n",
       "  </tbody>\n",
       "</table>\n",
       "</div>"
      ],
      "text/plain": [
       "   Product Name  Discount     Revenue\n",
       "9     Magnesium  0.129343  1361978.63\n",
       "13    Vitamin C  0.129270  1421998.07"
      ]
     },
     "execution_count": 8,
     "metadata": {},
     "output_type": "execute_result"
    }
   ],
   "source": [
    "result = produk[(produk['Discount'] > diskon) & (produk['Revenue'] < med_revenue)]\n",
    "result"
   ]
  },
  {
   "cell_type": "code",
   "execution_count": 14,
   "metadata": {},
   "outputs": [
    {
     "data": {
      "image/png": "[encoded data removed]",
      "text/plain": [
       "<Figure size 1000x600 with 1 Axes>"
      ]
     },
     "metadata": {},
     "output_type": "display_data"
    }
   ],
   "source": [
    "# Ini Untuk Assign Produk Yang Masuk Kriteria\n",
    "produk['Highlight'] = produk['Product Name'].isin(['Magnesium', 'Vitamin C'])\n",
    "\n",
    "#Size Untuk Figure (Visualisasi)\n",
    "plt.figure(figsize=(10, 6))\n",
    "\n",
    "#Filter Produk Yang Masuk Kriteria Dan Tidak Dan Tipe Plot Scatter\n",
    "plt.scatter(produk[produk['Highlight']]['Discount'], produk[produk['Highlight']]['Revenue'], color='red', label='Diskon Tinggi & Revenue Rendah')\n",
    "plt.scatter(produk[~produk['Highlight']]['Discount'], produk[~produk['Highlight']]['Revenue'], color='green', label='Produk Lainnya')\n",
    "\n",
    "#Horizontal Line Dan Vertikal Line, Diambil Dari Perhitung diskon , med_revenue.\n",
    "plt.axvline(diskon, color='pink', linestyle = ':',label='Batas Diskon')\n",
    "plt.axhline(med_revenue, color='purple',  linestyle = ':',label='Batas Revenue')\n",
    "\n",
    "#Label Axis \n",
    "plt.xlabel('Rata-rata Diskon')\n",
    "plt.ylabel('Total Revenue')\n",
    "plt.title('Visualisasi Produk')\n",
    "plt.legend()\n",
    "plt.show()\n"
   ]
  },
  {
   "cell_type": "markdown",
   "metadata": {},
   "source": [
    "#### Insight\n",
    "Berdasarkan hasil *Central Tendenciesnya* (Mean dan Median) terlihat bahwa pada data suplement store, berdasarkan rata-ratanya sebuah discount dikatakan tinggi apabila berada di angka lebih dari 0.1267 dan berdasarkan nilai tengahnya revenue dikatakan rendah apabila berada di angka kurang dari 1,432,050 USD. sehingga dengan melakukan filter berdasarkan diskon dan median terdapat 2 produk yang memiliki kondisi 'Discount Tinggi Revenue Rendah yaitu Pada :\n",
    "1. **Magnesium** \n",
    "2. **Vitamin C**"
   ]
  },
  {
   "cell_type": "markdown",
   "metadata": {},
   "source": [
    "### II. Category Terlaris Di Setiap Location? Visualisasi"
   ]
  },
  {
   "cell_type": "code",
   "execution_count": 16,
   "metadata": {},
   "outputs": [],
   "source": [
    "# Grouping Location, Category Dan Sum Units Sold --> Di Sort Values Descending\n",
    "loc_category = df.groupby(['Location', 'Category'])['Units Sold'].sum().reset_index()\n",
    "loc_category = loc_category.sort_values(by='Units Sold', ascending=False)"
   ]
  },
  {
   "cell_type": "code",
   "execution_count": 17,
   "metadata": {},
   "outputs": [
    {
     "data": {
      "image/png": "[encoded data removed]",
      "text/plain": [
       "<Figure size 1500x600 with 1 Axes>"
      ]
     },
     "metadata": {},
     "output_type": "display_data"
    }
   ],
   "source": [
    "#Size Untuk Figure (Visualisasi)\n",
    "plt.figure(figsize=(15, 6))\n",
    "\n",
    "#Type Plot Bar Dan Cara Visualisasi Berdasarkan Axis-nya.\n",
    "sns.barplot(data=loc_category,x='Location',y='Units Sold',hue='Category')\n",
    "\n",
    "#Label Axis\n",
    "plt.title('Jumlah Produk Terjual Berdasarkan Lokasi', fontsize=14)\n",
    "plt.ylabel('Total Units Sold')\n",
    "plt.xlabel('Location')\n",
    "plt.legend()\n",
    "plt.show()"
   ]
  },
  {
   "cell_type": "markdown",
   "metadata": {},
   "source": [
    "Berdasarkan hasil visualisasi setelah memisahkan locationnya dan didalamnya terdapat pemisahan berdasarkan category dan menjumlahkan Unit Soldnya. Dapat dilihat bahwa:\n",
    "**Top 3 Dari 10 Category Berdasarkan Location**\n",
    "\n",
    "A. UK\n",
    "1. Vitamin\n",
    "2. Mineral\n",
    "3. Protein\n",
    "\n",
    "B. USA\n",
    "1. Vitamin\n",
    "2. Mineral\n",
    "3. Protein\n",
    "\n",
    "C. Canada\n",
    "1. Mineral\n",
    "2. Vitamin \n",
    "3. Performance"
   ]
  },
  {
   "cell_type": "markdown",
   "metadata": {},
   "source": [
    "### III. Kapan periode paling sering terjadi over-discounting dan tingginya return? Visualisasi\n"
   ]
  },
  {
   "cell_type": "code",
   "execution_count": 29,
   "metadata": {},
   "outputs": [],
   "source": [
    "#Untuk Assign Data Secara Quarter\n",
    "periode = df.groupby(pd.to_datetime(df['Date']).dt.to_period('Q')).agg({\n",
    "    'Discount': 'mean',\n",
    "    'Units Returned': 'sum'\n",
    "}).reset_index()"
   ]
  },
  {
   "cell_type": "code",
   "execution_count": 30,
   "metadata": {},
   "outputs": [
    {
     "data": {
      "image/png": "[encoded data removed]",
      "text/plain": [
       "<Figure size 1400x600 with 2 Axes>"
      ]
     },
     "metadata": {},
     "output_type": "display_data"
    }
   ],
   "source": [
    "#Jika Tidak To Timestamp Periode Tidak Bisa Muncul (ERROR)\n",
    "periode['Date'] = periode['Date'].dt.to_timestamp(how = 'start')\n",
    "\n",
    "#Size Untuk Figure (Visualisasi) + Subplot Untuk Menampilkan Beberapa Visualisasi Dalam Figure Yang Sama\n",
    "fig, ax1 = plt.subplots(figsize=(14, 6))\n",
    "\n",
    "#Type Plot Line\n",
    "sns.lineplot(data=periode, x='Date', y='Discount', ax=ax1, color='blue')\n",
    "ax1.set_ylabel('Rata-rata Diskon', color='blue')\n",
    "ax1.tick_params(axis='y', labelcolor='blue')\n",
    "ax1.set_xlabel('Quarter Period')\n",
    "\n",
    "#Line Horizontal Untuk Batas Diskon Tinggi\n",
    "ax1.axhline(diskon, color='blue', linestyle='--', linewidth=1.5)\n",
    "\n",
    "#Type Plot Line - 2\n",
    "ax2 = ax1.twinx()\n",
    "sns.lineplot(data=periode, x='Date', y='Units Returned', ax=ax2, color='red')\n",
    "ax2.set_ylabel('Units Returned', color='red')\n",
    "ax2.tick_params(axis='y', labelcolor='red')\n",
    "\n",
    "#Axis Label\n",
    "plt.title('Period Overdiscount per Quarter')\n",
    "plt.show()"
   ]
  },
  {
   "cell_type": "markdown",
   "metadata": {},
   "source": [
    "Berdasarkan hasil visualisasi, Overdiscounting terjadi pada (mengacu pada rata-rata diskon):\n",
    "1. Q2 dan Q4 2022\n",
    "2. Q2, Q3, Q4 2023\n",
    "3. Q3 2024\n",
    "\n",
    "a. Terlihat bahwa pada periode **Q4 2023** Overdiscounting berpengaruh terhadap Units Returnnya.\n",
    "\n",
    "b. Terlihat juga bahwa pada periode **Q3 2024** pada saat terjadi overdiscounting, Unit Yang Di Returnnya juga tinggi."
   ]
  },
  {
   "cell_type": "markdown",
   "metadata": {},
   "source": [
    "### IV. Apakah terdapat perbedaan signifikan rata-rata profit antar platform penjualan yang berbeda? Inferential"
   ]
  },
  {
   "cell_type": "markdown",
   "metadata": {},
   "source": [
    "Untuk mencari profit kita bisa melakukan perhitungan yaitu revenue *(Dikalikan) dengan (1 - discountnya),(Contoh 1 - 0.03 -> Revenue akan * dengan 0.97), Lalu kenapa kolomnya bernama estimated_profit karena dengan asumsi semua ini belum dihitung untuk cost-cost lain(Biaya produksi, Biaya Pengantaran, dll)."
   ]
  },
  {
   "cell_type": "code",
   "execution_count": null,
   "metadata": {},
   "outputs": [
    {
     "data": {
      "text/html": [
       "<div>\n",
       "<style scoped>\n",
       "    .dataframe tbody tr th:only-of-type {\n",
       "        vertical-align: middle;\n",
       "    }\n",
       "\n",
       "    .dataframe tbody tr th {\n",
       "        vertical-align: top;\n",
       "    }\n",
       "\n",
       "    .dataframe thead th {\n",
       "        text-align: right;\n",
       "    }\n",
       "</style>\n",
       "<table border=\"1\" class=\"dataframe\">\n",
       "  <thead>\n",
       "    <tr style=\"text-align: right;\">\n",
       "      <th></th>\n",
       "      <th>Date</th>\n",
       "      <th>Product Name</th>\n",
       "      <th>Category</th>\n",
       "      <th>Units Sold</th>\n",
       "      <th>Price</th>\n",
       "      <th>Revenue</th>\n",
       "      <th>Discount</th>\n",
       "      <th>Units Returned</th>\n",
       "      <th>Location</th>\n",
       "      <th>Platform</th>\n",
       "      <th>Estimated_Profit</th>\n",
       "    </tr>\n",
       "  </thead>\n",
       "  <tbody>\n",
       "    <tr>\n",
       "      <th>0</th>\n",
       "      <td>2020-01-06</td>\n",
       "      <td>Whey Protein</td>\n",
       "      <td>Protein</td>\n",
       "      <td>143</td>\n",
       "      <td>31.98</td>\n",
       "      <td>4573.14</td>\n",
       "      <td>0.03</td>\n",
       "      <td>2</td>\n",
       "      <td>Canada</td>\n",
       "      <td>Walmart</td>\n",
       "      <td>4435.9458</td>\n",
       "    </tr>\n",
       "    <tr>\n",
       "      <th>1</th>\n",
       "      <td>2020-01-06</td>\n",
       "      <td>Vitamin C</td>\n",
       "      <td>Vitamin</td>\n",
       "      <td>139</td>\n",
       "      <td>42.51</td>\n",
       "      <td>5908.89</td>\n",
       "      <td>0.04</td>\n",
       "      <td>0</td>\n",
       "      <td>UK</td>\n",
       "      <td>Amazon</td>\n",
       "      <td>5672.5344</td>\n",
       "    </tr>\n",
       "    <tr>\n",
       "      <th>2</th>\n",
       "      <td>2020-01-06</td>\n",
       "      <td>Fish Oil</td>\n",
       "      <td>Omega</td>\n",
       "      <td>161</td>\n",
       "      <td>12.91</td>\n",
       "      <td>2078.51</td>\n",
       "      <td>0.25</td>\n",
       "      <td>0</td>\n",
       "      <td>Canada</td>\n",
       "      <td>Amazon</td>\n",
       "      <td>1558.8825</td>\n",
       "    </tr>\n",
       "    <tr>\n",
       "      <th>3</th>\n",
       "      <td>2020-01-06</td>\n",
       "      <td>Multivitamin</td>\n",
       "      <td>Vitamin</td>\n",
       "      <td>140</td>\n",
       "      <td>16.07</td>\n",
       "      <td>2249.80</td>\n",
       "      <td>0.08</td>\n",
       "      <td>0</td>\n",
       "      <td>Canada</td>\n",
       "      <td>Walmart</td>\n",
       "      <td>2069.8160</td>\n",
       "    </tr>\n",
       "    <tr>\n",
       "      <th>4</th>\n",
       "      <td>2020-01-06</td>\n",
       "      <td>Pre-Workout</td>\n",
       "      <td>Performance</td>\n",
       "      <td>157</td>\n",
       "      <td>35.47</td>\n",
       "      <td>5568.79</td>\n",
       "      <td>0.25</td>\n",
       "      <td>3</td>\n",
       "      <td>Canada</td>\n",
       "      <td>iHerb</td>\n",
       "      <td>4176.5925</td>\n",
       "    </tr>\n",
       "    <tr>\n",
       "      <th>...</th>\n",
       "      <td>...</td>\n",
       "      <td>...</td>\n",
       "      <td>...</td>\n",
       "      <td>...</td>\n",
       "      <td>...</td>\n",
       "      <td>...</td>\n",
       "      <td>...</td>\n",
       "      <td>...</td>\n",
       "      <td>...</td>\n",
       "      <td>...</td>\n",
       "      <td>...</td>\n",
       "    </tr>\n",
       "    <tr>\n",
       "      <th>4379</th>\n",
       "      <td>2025-03-31</td>\n",
       "      <td>Melatonin</td>\n",
       "      <td>Sleep Aid</td>\n",
       "      <td>160</td>\n",
       "      <td>47.79</td>\n",
       "      <td>7646.40</td>\n",
       "      <td>0.21</td>\n",
       "      <td>1</td>\n",
       "      <td>USA</td>\n",
       "      <td>iHerb</td>\n",
       "      <td>6040.6560</td>\n",
       "    </tr>\n",
       "    <tr>\n",
       "      <th>4380</th>\n",
       "      <td>2025-03-31</td>\n",
       "      <td>Biotin</td>\n",
       "      <td>Vitamin</td>\n",
       "      <td>154</td>\n",
       "      <td>38.12</td>\n",
       "      <td>5870.48</td>\n",
       "      <td>0.22</td>\n",
       "      <td>1</td>\n",
       "      <td>UK</td>\n",
       "      <td>Walmart</td>\n",
       "      <td>4578.9744</td>\n",
       "    </tr>\n",
       "    <tr>\n",
       "      <th>4381</th>\n",
       "      <td>2025-03-31</td>\n",
       "      <td>Green Tea Extract</td>\n",
       "      <td>Fat Burner</td>\n",
       "      <td>139</td>\n",
       "      <td>20.40</td>\n",
       "      <td>2835.60</td>\n",
       "      <td>0.12</td>\n",
       "      <td>3</td>\n",
       "      <td>USA</td>\n",
       "      <td>iHerb</td>\n",
       "      <td>2495.3280</td>\n",
       "    </tr>\n",
       "    <tr>\n",
       "      <th>4382</th>\n",
       "      <td>2025-03-31</td>\n",
       "      <td>Iron Supplement</td>\n",
       "      <td>Mineral</td>\n",
       "      <td>154</td>\n",
       "      <td>18.31</td>\n",
       "      <td>2819.74</td>\n",
       "      <td>0.23</td>\n",
       "      <td>2</td>\n",
       "      <td>Canada</td>\n",
       "      <td>Amazon</td>\n",
       "      <td>2171.1998</td>\n",
       "    </tr>\n",
       "    <tr>\n",
       "      <th>4383</th>\n",
       "      <td>2025-03-31</td>\n",
       "      <td>Electrolyte Powder</td>\n",
       "      <td>Hydration</td>\n",
       "      <td>178</td>\n",
       "      <td>39.12</td>\n",
       "      <td>6963.36</td>\n",
       "      <td>0.23</td>\n",
       "      <td>0</td>\n",
       "      <td>UK</td>\n",
       "      <td>iHerb</td>\n",
       "      <td>5361.7872</td>\n",
       "    </tr>\n",
       "  </tbody>\n",
       "</table>\n",
       "<p>4384 rows × 11 columns</p>\n",
       "</div>"
      ],
      "text/plain": [
       "           Date        Product Name     Category  Units Sold  Price  Revenue  \\\n",
       "0    2020-01-06        Whey Protein      Protein         143  31.98  4573.14   \n",
       "1    2020-01-06           Vitamin C      Vitamin         139  42.51  5908.89   \n",
       "2    2020-01-06            Fish Oil        Omega         161  12.91  2078.51   \n",
       "3    2020-01-06        Multivitamin      Vitamin         140  16.07  2249.80   \n",
       "4    2020-01-06         Pre-Workout  Performance         157  35.47  5568.79   \n",
       "...         ...                 ...          ...         ...    ...      ...   \n",
       "4379 2025-03-31           Melatonin    Sleep Aid         160  47.79  7646.40   \n",
       "4380 2025-03-31              Biotin      Vitamin         154  38.12  5870.48   \n",
       "4381 2025-03-31   Green Tea Extract   Fat Burner         139  20.40  2835.60   \n",
       "4382 2025-03-31     Iron Supplement      Mineral         154  18.31  2819.74   \n",
       "4383 2025-03-31  Electrolyte Powder    Hydration         178  39.12  6963.36   \n",
       "\n",
       "      Discount  Units Returned Location Platform  Estimated_Profit  \n",
       "0         0.03               2   Canada  Walmart         4435.9458  \n",
       "1         0.04               0       UK   Amazon         5672.5344  \n",
       "2         0.25               0   Canada   Amazon         1558.8825  \n",
       "3         0.08               0   Canada  Walmart         2069.8160  \n",
       "4         0.25               3   Canada    iHerb         4176.5925  \n",
       "...        ...             ...      ...      ...               ...  \n",
       "4379      0.21               1      USA    iHerb         6040.6560  \n",
       "4380      0.22               1       UK  Walmart         4578.9744  \n",
       "4381      0.12               3      USA    iHerb         2495.3280  \n",
       "4382      0.23               2   Canada   Amazon         2171.1998  \n",
       "4383      0.23               0       UK    iHerb         5361.7872  \n",
       "\n",
       "[4384 rows x 11 columns]"
      ]
     },
     "execution_count": 20,
     "metadata": {},
     "output_type": "execute_result"
    }
   ],
   "source": [
    "df['Estimated_Profit'] = df['Revenue'] * (1 - df['Discount'])\n",
    "df"
   ]
  },
  {
   "cell_type": "markdown",
   "metadata": {},
   "source": [
    "Setelah mendapat estimasi profitnya kita ingin tau apakah perbedaannya profit antar location itu memiliki perbedaan rata-rata secara signifikan atau tidak. Namun, kita tidak mengetahui diangka berapa sebuah perbandingan itu dapat dikatakan berbeda atau tidak, sehingga kita akan mencari angkanya berdasarkan ilmu statisik. Dan karena perbandingannya ada 3 sample maka pendekatan statistik yang cocok untuk menghitungnya adalah dengan menggunakan penjabaran statistik inferensial **ANOVA**."
   ]
  },
  {
   "cell_type": "markdown",
   "metadata": {},
   "source": [
    "##### Penjabaran Statisik Infrensial ANOVA (Analysis of Variance)\n",
    "\n",
    "Sebelum masuk kedalam perhitungannya kita akan menentukan metricsnya terlebih dahulu yaitu H0 dan H1, dimana apabila nilai perhitungan ANOVA nilainya (P-valuenya) < 0.05 Maka H0 Ditolak Dan H1 Diterima, begitupun sebaliknya."
   ]
  },
  {
   "cell_type": "markdown",
   "metadata": {},
   "source": [
    "H0: Rata-rata profit antar platform(iherb,walmart,amazon) tidak terdapat perbedaan signifikan.\n",
    "\n",
    "H1: Rata-rata profit antar platform(iherb,walmart,amazon) terdapat perbedaan signifikan."
   ]
  },
  {
   "cell_type": "code",
   "execution_count": null,
   "metadata": {},
   "outputs": [
    {
     "name": "stdout",
     "output_type": "stream",
     "text": [
      "P-value: 0.9408534232950309\n"
     ]
    }
   ],
   "source": [
    "iherb = df[df['Platform'] == 'iHerb']['Estimated_Profit']\n",
    "walmart = df[df['Platform'] == 'Walmart']['Estimated_Profit']\n",
    "amazon = df[df['Platform'] == 'Amazon']['Estimated_Profit']\n",
    "\n",
    "res = stats.f_oneway(iherb, walmart, amazon)\n",
    "print('P-value:',res.pvalue)"
   ]
  },
  {
   "cell_type": "markdown",
   "metadata": {},
   "source": [
    "Berdasarkan hasil perhitungannya tertera bahwa P-Value bernilai 0.94. karena nilai p-value > 0.05, yang mana hasilnya adalah **H0 diterima dan H1 ditolak**,berdasar pada kesimpulan dari H0 maka artinya revenue tiap platform tidak terdapat perbeedan yang signifikan."
   ]
  },
  {
   "cell_type": "markdown",
   "metadata": {},
   "source": [
    "### V. Produk atau kategori apa yang memiliki tingkat pengembalian tertinggi? Visualisasi"
   ]
  },
  {
   "cell_type": "code",
   "execution_count": null,
   "metadata": {},
   "outputs": [],
   "source": [
    "#Penggunaan Aggregate Untuk Memfilter Category Berdasar Units Returned + Units Sold Yang Sudah Di Sum\n",
    "kategori_return = df.groupby('Category').agg({\n",
    "    'Units Returned': 'sum',\n",
    "    'Units Sold': 'sum'\n",
    "})\n",
    "\n",
    "#Penggunaan Aggregate Untuk Memfilter Product Berdasar Units Returned + Units Sold Yang Sudah Di Sum\n",
    "produk_return = df.groupby('Product Name').agg({\n",
    "    'Units Returned': 'sum',\n",
    "    'Units Sold': 'sum'\n",
    "})\n",
    "\n",
    "#Membuat Column Return Rate\n",
    "produk_return['Return_Rate'] = produk_return['Units Returned'] / produk_return['Units Sold']\n",
    "kategori_return['Return_Rate'] = kategori_return['Units Returned'] / kategori_return['Units Sold']\n",
    "\n",
    "kategori_return = kategori_return.sort_values('Return_Rate', ascending=False).reset_index().head(5)\n",
    "produk_return= produk_return.sort_values('Return_Rate', ascending=False).reset_index().head(5)\n",
    "\n"
   ]
  },
  {
   "cell_type": "code",
   "execution_count": null,
   "metadata": {},
   "outputs": [
    {
     "name": "stderr",
     "output_type": "stream",
     "text": [
      "/var/folders/ct/s2wc2gy11hj_h3hfr7l8v3nh0000gn/T/ipykernel_80278/2216977491.py:3: FutureWarning: \n",
      "\n",
      "Passing `palette` without assigning `hue` is deprecated and will be removed in v0.14.0. Assign the `y` variable to `hue` and set `legend=False` for the same effect.\n",
      "\n",
      "  sns.barplot(x='Return_Rate', y='Category', data=kategori_return, palette='BuPu_r', ax = axes[0])\n",
      "/var/folders/ct/s2wc2gy11hj_h3hfr7l8v3nh0000gn/T/ipykernel_80278/2216977491.py:9: FutureWarning: \n",
      "\n",
      "Passing `palette` without assigning `hue` is deprecated and will be removed in v0.14.0. Assign the `y` variable to `hue` and set `legend=False` for the same effect.\n",
      "\n",
      "  sns.barplot(x='Return_Rate', y='Product Name', data= produk_return, palette='BuPu_r', ax = axes[1])\n"
     ]
    },
    {
     "data": {
      "image/png": "[encoded data removed]",
      "text/plain": [
       "<Figure size 1500x800 with 2 Axes>"
      ]
     },
     "metadata": {},
     "output_type": "display_data"
    }
   ],
   "source": [
    "#Size Untuk Figure (Visualisasi) + Subplot Untuk Menampilkan Beberapa Visualisasi Dalam Figure Yang Sama\n",
    "fig, axes = plt.subplots(1, 2, figsize=(15, 8))\n",
    "\n",
    "#Type Plot Bar \n",
    "sns.barplot(x='Return_Rate', y='Category', data=kategori_return, palette='BuPu_r', ax = axes[0])\n",
    "axes[0].set_title('Tingkat Pengembalian per Kategori Produk')\n",
    "axes[0].set_xlabel('Return Rate %')\n",
    "axes[0].set_ylabel('Kategori Produk')\n",
    "axes[0].tick_params(axis='y', labelsize=10)\n",
    "\n",
    "#Type Plot Bar-2\n",
    "sns.barplot(x='Return_Rate', y='Product Name', data= produk_return, palette='BuPu_r', ax = axes[1])\n",
    "axes[1].set_title('Tingkat Pengembalian per Nama Produk')\n",
    "axes[1].set_xlabel('Return Rate %')\n",
    "axes[1].set_ylabel('Nama Produk')\n",
    "axes[1].tick_params(axis='y', labelsize=10)\n",
    "\n",
    "#Label Axis\n",
    "plt.tight_layout()\n",
    "plt.show()"
   ]
  },
  {
   "cell_type": "markdown",
   "metadata": {},
   "source": [
    "Mengacu pada hasil visualisasi bahwa terlihat produk serta category yang memiliki return rate tinggi. Yaitu, terdapat pada:\n",
    "\n",
    "a. **Category**\n",
    "1. Hydration\n",
    "2. Vitamin\n",
    "3. Amino\n",
    "4. Fat Burner\n",
    "5. Performance\n",
    "\n",
    "b. **Produk**\n",
    "1. Vitamin C\n",
    "2. Electrolyte Powder\n",
    "3. Collagen Peptides\n",
    "4. Magnesium\n",
    "5. BCAA\n",
    "\n",
    "Ini didapatkan setelah melakukan aggregate SUM pada kolom Units Returned Dan Units Sold, Lalu Menggunakan Perhitungan Ratenya dengan membagi antara Units Returned / Units Sold."
   ]
  },
  {
   "cell_type": "markdown",
   "metadata": {},
   "source": [
    "### VI. Di Location Dan Platform Mana Yang Banyak Terjadi Pengembalian Produk? Visualisasi"
   ]
  },
  {
   "cell_type": "code",
   "execution_count": null,
   "metadata": {},
   "outputs": [],
   "source": [
    "#Grouping Untuk Melihat Jumlah Return Pada Setiap Lokasi Dan Platform\n",
    "location_return = df.groupby('Location')['Units Returned'].sum().sort_values(ascending=False).reset_index()\n",
    "platform_return = df.groupby('Platform')['Units Returned'].sum().sort_values(ascending=False).reset_index()"
   ]
  },
  {
   "cell_type": "code",
   "execution_count": null,
   "metadata": {},
   "outputs": [
    {
     "name": "stderr",
     "output_type": "stream",
     "text": [
      "/var/folders/ct/s2wc2gy11hj_h3hfr7l8v3nh0000gn/T/ipykernel_80278/2373908976.py:3: FutureWarning: \n",
      "\n",
      "Passing `palette` without assigning `hue` is deprecated and will be removed in v0.14.0. Assign the `y` variable to `hue` and set `legend=False` for the same effect.\n",
      "\n",
      "  sns.barplot(x='Units Returned', y='Location', data=location_return, palette='Blues_d', ax = axes[0])\n",
      "/var/folders/ct/s2wc2gy11hj_h3hfr7l8v3nh0000gn/T/ipykernel_80278/2373908976.py:9: FutureWarning: \n",
      "\n",
      "Passing `palette` without assigning `hue` is deprecated and will be removed in v0.14.0. Assign the `y` variable to `hue` and set `legend=False` for the same effect.\n",
      "\n",
      "  sns.barplot(x='Units Returned', y='Platform', data=platform_return, palette='Reds_d',ax= axes[1])\n"
     ]
    },
    {
     "data": {
      "image/png": "[encoded data removed]",
      "text/plain": [
       "<Figure size 1500x800 with 2 Axes>"
      ]
     },
     "metadata": {},
     "output_type": "display_data"
    }
   ],
   "source": [
    "#Size Untuk Figure (Visualisasi) + Subplot Untuk Menampilkan Beberapa Visualisasi Dalam Figure Yang Sama\n",
    "fig, axes = plt.subplots(1, 2, figsize=(15, 8))\n",
    "\n",
    "#Type Bar Plot\n",
    "sns.barplot(x='Units Returned', y='Location', data=location_return, palette='Blues_d', ax = axes[0])\n",
    "axes[0].set_title('Jumlah Pengembalian Produk(Location)')\n",
    "axes[0].set_xlabel('Total Units Returned')\n",
    "axes[0].set_ylabel('Location')\n",
    "\n",
    "#Type Bar Plot 2\n",
    "sns.barplot(x='Units Returned', y='Platform', data=platform_return, palette='Reds_d',ax= axes[1])\n",
    "axes[1].set_title('Jumlah Pengembalian Produk(Platform)')\n",
    "axes[1].set_xlabel('Total Units Returned')\n",
    "axes[1].set_ylabel('Platform')\n",
    "\n",
    "#Axis Label\n",
    "plt.tight_layout()\n",
    "plt.show()"
   ]
  },
  {
   "cell_type": "markdown",
   "metadata": {},
   "source": [
    "Mengacu pada hasil visualisasi bahwa terlihat lokasi return terbanyak setiap negara dan platform yang hasilnya:\n",
    "\n",
    "a. **Location**\n",
    "1. UK\n",
    "2. Canada\n",
    "3. USA\n",
    "\n",
    "b. **Platform**\n",
    "1. Amazon\n",
    "2. iHerb\n",
    "3. Walmart\n",
    "\n",
    "yang hasilnya didapatkan melalui Sum dari units returned-nya dan di group berdasarkan Lokasi serta Platform."
   ]
  },
  {
   "cell_type": "markdown",
   "metadata": {},
   "source": [
    "# 6. Conclusion"
   ]
  },
  {
   "cell_type": "markdown",
   "metadata": {},
   "source": [
    "1. Apa Saja Produk Yang Paling Sering Diberi Diskon Tinggi Namun Revenue Tidak Signifikan?\n",
    "--> Berdasar pada hasil bahwa ada 2 dari 15 produk yang masuk kedalam diskon tinggi namun revenue tidak signifikan langkah selanjutnya adalah melakukan analisa terlebih tentang apa yang menyebabkan diskon tinggi tapi revenue tidak signifikan apa mungkin diskon terlalu tinggi sehingga revenue yang didapatkan tidak maksimal\n",
    "\n",
    "2. Category Terlaris Di Setiap Location\n",
    "--> Berdasar pada hasil visualisasi category terlaris di setiap lokasinya terlihat bahwa Di UK Ada Vitamin, Di USA Ada Vitamin, Di Canada Ada Mineral. Hasil dari Visualisasi sederhana ini bisa dimanfaatkan untuk lebih memaksimalkan potensi pada produk-produk yang paling laku untuk meningkatkan revenue.\n",
    "\n",
    "3. Kapan periode paling sering terjadi over-discounting dan tingginya return?\n",
    "--> Berdasarkan visual data terlihat bahwa pada Tahun 2023 ada di Q4 dan Tahun 2024 di Q3, berdasarkan pada data maka penurunan mulai terjadi di tahun 2023 dan biasa terjadi Mulai di Q3 yaitu bulan Juli dan berakhir di Q4 yaitu bulan Desember. Sehingga perlu ditelusuri lebih lanjut faktor-faktor apa yang menyebabkan pada periode ini terjadi over discounting dan high-return. Berdasarkan asumsi mungkin pada Saat Christmas terjadi over discounting tetapi produk yang di discount memiliki produk yang buruk (bisa di packaging atau isi).\n",
    "\n",
    "4. Apakah terdapat perbedaan signifikan rata-rata profit antar platform penjualan yang berbeda?\n",
    "--> Berdasarkan hasil analisa dengan menggunakan ANOVA adalah tidak ada perbedaan signifikan pada rata-rata profit disetiap location. Sehingga revenue bisa dianggap setara yang artinya kita bisa menerapkan strategi penjualan secara menyeluruh dan hasilnya bisa berjalan untuk semuanya karena terlihat bahwa produk terjual mungkin hampir setara setiap locationnya.\n",
    "\n",
    "5. Produk atau kategori apa yang memiliki tingkat pengembalian tertinggi?\n",
    "--> Berdasarkan hasil visual terlihat Top 5 pada Category dan Top 5 pada Category yang sering di kembalikan sehingga karena kita sudah mendapatkan category terlaris disetiap location kita bisa menggabungkan kedua info tersebut untuk memfilter, category apa yang terlaris dan category apa yang kurang, untuk nantinya dapat memutuskan Strategi diskon dan juga strategi lainnya.\n",
    "\n",
    "6. Di Location Dan Platform Mana Yang Banyak Terjadi Pengembalian Produk?\n",
    "--> Berdasar hasil visualisasi terlihat juga Top 5 pada Location dan Top 5 Platform yang sering dikembalikan informasi ini bisa digabungkan juga dengan poin 2 dan 4 untuk memutuskan Strategi Berikutnya.\n",
    "\n",
    "Kesimpulan Terakhir : \n",
    "\n",
    "Untuk Menjawab SMART yang dijelaskan di Problem Statement maka kita sudah memiliki cukup data sebagai strategi kita. Kita bisa menggunakan poin-poin dari 1-6 untuk menjawab:\n",
    "1. Spesific \n",
    "--> Penggabungan Poin 1 - 6 dapat disatukan dalam kita menentukan strategi diskon, juga untuk meningkatkan profit kita bisa melihat produk-produk paling laris di setiap location ataupun platform. Kita bisa memaksimalkan potensi dari profit dengan berfokus pada produk dengan tingkat penjualan tinggi dan juga kita bisa berbenah pada produk yang returnnya tinggi.\n",
    "\n",
    "2. Measurable\n",
    "--> Hasil dari spesifik tersebut kita bisa melakukan pengukuran secara perhitungan dengan memanfaatkan produk unggulan dan membenahi produk buruk untuk meningkatkan profitabilitas sebesar 10% per produk dan menurunkan tingkat return sebesar 15%\n",
    "\n",
    "3. Achievable\n",
    "--> Untuk Dapat memenuhi spesifik measurable kita juga harus bisa menentukan strategi yang tepat. Untuk itu diperlukan selain dari produk, kita meningkatkan pelayanannya baik secara langsung maupun pelayanan onlinennya.\n",
    "\n",
    "4. Relevant\n",
    "--> Berdasarkan jawaban Spesific, Measurable, Dan Achievable hasil ini akan relevant apabila semuanya dijalankan secara disiplin dan semuanya berjalan secara linier.\n",
    "\n",
    "5. Time-Bound\n",
    "--> Keempat Topik permasalahan ini diharapkan dapat selesai dalam waktu 3 bulan atau quarterly dan juga hasilnya pun diharapkan dapat memenuhi poin measurable yaitu kenaikan profit sebesar 10% dan penurunan product return sebesar 15%. dilihat dari visualisasi terkait periode kita menganalisisnya quarterly.\n"
   ]
  }
 ],
 "metadata": {
  "kernelspec": {
   "display_name": "base",
   "language": "python",
   "name": "python3"
  },
  "language_info": {
   "codemirror_mode": {
    "name": "ipython",
    "version": 3
   },
   "file_extension": ".py",
   "mimetype": "text/x-python",
   "name": "python",
   "nbconvert_exporter": "python",
   "pygments_lexer": "ipython3",
   "version": "3.13.2"
  }
 },
 "nbformat": 4,
 "nbformat_minor": 2
}
